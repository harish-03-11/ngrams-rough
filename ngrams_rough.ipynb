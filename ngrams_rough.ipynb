{
  "nbformat": 4,
  "nbformat_minor": 0,
  "metadata": {
    "colab": {
      "provenance": [],
      "authorship_tag": "ABX9TyOu/3Qb6OInRzRFbKO3F4ka",
      "include_colab_link": true
    },
    "kernelspec": {
      "name": "python3",
      "display_name": "Python 3"
    },
    "language_info": {
      "name": "python"
    }
  },
  "cells": [
    {
      "cell_type": "markdown",
      "metadata": {
        "id": "view-in-github",
        "colab_type": "text"
      },
      "source": [
        "<a href=\"https://colab.research.google.com/github/harish-03-11/ngrams-rough/blob/main/ngrams_rough.ipynb\" target=\"_parent\"><img src=\"https://colab.research.google.com/assets/colab-badge.svg\" alt=\"Open In Colab\"/></a>"
      ]
    },
    {
      "cell_type": "code",
      "execution_count": 1,
      "metadata": {
        "id": "AUvoIwBrb3SN"
      },
      "outputs": [],
      "source": [
        "import pandas as pd\n",
        "import numpy as np"
      ]
    },
    {
      "cell_type": "code",
      "source": [
        "from sklearn.feature_extraction.text import CountVectorizer\n",
        "\n",
        "v = CountVectorizer(ngram_range = (1,3))\n",
        "v.fit([\"The quick brown fox jumps over the lazy dog. The quick brown fox jumps over the lazy dog. The quick brown fox jumps over the lazy dog.\"])\n",
        "v.vocabulary_"
      ],
      "metadata": {
        "colab": {
          "base_uri": "https://localhost:8080/"
        },
        "id": "3fidu_6hbjQ8",
        "outputId": "ecb15faf-0693-4ad9-8eb4-045c53ffa3a9"
      },
      "execution_count": 8,
      "outputs": [
        {
          "output_type": "execute_result",
          "data": {
            "text/plain": [
              "{'the': 21,\n",
              " 'quick': 18,\n",
              " 'brown': 0,\n",
              " 'fox': 6,\n",
              " 'jumps': 9,\n",
              " 'over': 15,\n",
              " 'lazy': 12,\n",
              " 'dog': 3,\n",
              " 'the quick': 24,\n",
              " 'quick brown': 19,\n",
              " 'brown fox': 1,\n",
              " 'fox jumps': 7,\n",
              " 'jumps over': 10,\n",
              " 'over the': 16,\n",
              " 'the lazy': 22,\n",
              " 'lazy dog': 13,\n",
              " 'dog the': 4,\n",
              " 'the quick brown': 25,\n",
              " 'quick brown fox': 20,\n",
              " 'brown fox jumps': 2,\n",
              " 'fox jumps over': 8,\n",
              " 'jumps over the': 11,\n",
              " 'over the lazy': 17,\n",
              " 'the lazy dog': 23,\n",
              " 'lazy dog the': 14,\n",
              " 'dog the quick': 5}"
            ]
          },
          "metadata": {},
          "execution_count": 8
        }
      ]
    },
    {
      "cell_type": "code",
      "source": [
        "corpus = [\n",
        "    \"Thor ate pizza\",\n",
        "    \"Loki is tall\",\n",
        "    \"Loki is eating pizza\"\n",
        "]"
      ],
      "metadata": {
        "id": "Bi7uNL2kcdV3"
      },
      "execution_count": 25,
      "outputs": []
    },
    {
      "cell_type": "code",
      "source": [
        "import spacy"
      ],
      "metadata": {
        "id": "n-ilpdfWcnF8"
      },
      "execution_count": 12,
      "outputs": []
    },
    {
      "cell_type": "code",
      "source": [
        "nlp = spacy.load(\"en_core_web_sm\")"
      ],
      "metadata": {
        "id": "hDsduBWgdYuJ"
      },
      "execution_count": 15,
      "outputs": []
    },
    {
      "cell_type": "code",
      "source": [
        "def preprocess(text):\n",
        "\n",
        "  doc = nlp(text)\n",
        "  filtered = []\n",
        "\n",
        "  for token in doc:\n",
        "    if not token.is_stop or token.is_punct:\n",
        "      filtered.append(token.lemma_)\n",
        "\n",
        "  return \" \".join(filtered)\n",
        "\n",
        "preprocess(\"Loki is eating pizza\")"
      ],
      "metadata": {
        "colab": {
          "base_uri": "https://localhost:8080/",
          "height": 35
        },
        "id": "-p7bB8ujdb9S",
        "outputId": "7efa3b71-36d6-4ab7-df39-18e5061e6fde"
      },
      "execution_count": 22,
      "outputs": [
        {
          "output_type": "execute_result",
          "data": {
            "text/plain": [
              "'Loki eat pizza'"
            ],
            "application/vnd.google.colaboratory.intrinsic+json": {
              "type": "string"
            }
          },
          "metadata": {},
          "execution_count": 22
        }
      ]
    },
    {
      "cell_type": "code",
      "source": [
        "corpus_processed = [ preprocess(text) for text in corpus ]\n",
        "corpus_processed"
      ],
      "metadata": {
        "colab": {
          "base_uri": "https://localhost:8080/"
        },
        "collapsed": true,
        "id": "fTYMxblEdqBM",
        "outputId": "1995fc23-07e9-4e9d-a6f1-ed83610fe661"
      },
      "execution_count": 34,
      "outputs": [
        {
          "output_type": "execute_result",
          "data": {
            "text/plain": [
              "['thor eat pizza', 'Loki tall', 'Loki eat pizza']"
            ]
          },
          "metadata": {},
          "execution_count": 34
        }
      ]
    },
    {
      "cell_type": "code",
      "source": [
        "corpus[1]"
      ],
      "metadata": {
        "colab": {
          "base_uri": "https://localhost:8080/",
          "height": 35
        },
        "id": "52Y_W8Ife-nS",
        "outputId": "493cb8ab-2326-4150-872b-f13412a41ea7"
      },
      "execution_count": 29,
      "outputs": [
        {
          "output_type": "execute_result",
          "data": {
            "text/plain": [
              "'Loki is tall'"
            ],
            "application/vnd.google.colaboratory.intrinsic+json": {
              "type": "string"
            }
          },
          "metadata": {},
          "execution_count": 29
        }
      ]
    },
    {
      "cell_type": "code",
      "source": [
        "dummy = []\n",
        "for i in corpus:\n",
        "  convert = preprocess(i)\n",
        "  dummy.append(convert)\n",
        "\n",
        "print(dummy)"
      ],
      "metadata": {
        "colab": {
          "base_uri": "https://localhost:8080/"
        },
        "id": "U00ntSJRfMvn",
        "outputId": "ffa6b749-3108-4b87-fd2b-248b18d9721f"
      },
      "execution_count": 31,
      "outputs": [
        {
          "output_type": "stream",
          "name": "stdout",
          "text": [
            "['thor eat pizza', 'Loki tall', 'Loki eat pizza']\n"
          ]
        }
      ]
    },
    {
      "cell_type": "code",
      "source": [
        "# .fit will create an vocabulary"
      ],
      "metadata": {
        "id": "haxHLdZIfiwa"
      },
      "execution_count": 32,
      "outputs": []
    },
    {
      "cell_type": "code",
      "source": [],
      "metadata": {
        "id": "caOuppVwf3gK"
      },
      "execution_count": null,
      "outputs": []
    }
  ]
}